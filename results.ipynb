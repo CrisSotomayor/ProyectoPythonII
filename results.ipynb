{
 "cells": [
  {
   "cell_type": "markdown",
   "id": "58d3dabc",
   "metadata": {},
   "source": [
    "## Identificación de genes involucrados en carcinogénesis viral\n",
    "\n",
    "Luz Rosario Guevara Cruz (lguevara@lcg.unam.mx) \\\n",
    "Cristina Sotomayor Vivas (cristina@lcg.unam.mx)\n",
    "\n",
    "En este notebook realizaremos el análisis de la vía de señalización de carcinogénesis viral, con datos obtenidos de la base de datos KEGG. "
   ]
  },
  {
   "cell_type": "code",
   "execution_count": 1,
   "id": "58848fc6",
   "metadata": {},
   "outputs": [],
   "source": [
    "import pandas as pd\n",
    "import matplotlib.pyplot as plt\n",
    "\n",
    "from genes import *\n",
    "from pathways import * \n",
    "from DataFrame import *"
   ]
  },
  {
   "cell_type": "markdown",
   "id": "21c1bc1f",
   "metadata": {},
   "source": [
    "Estamos interesadas en analizar la vía de carcinogénesis viral, cuyo código de acceso es 'hsa05203', obtenemos la vía por medio de la librería `pathways`."
   ]
  },
  {
   "cell_type": "code",
   "execution_count": 2,
   "id": "d3535344",
   "metadata": {},
   "outputs": [],
   "source": [
    "pathway = GetPathway('hsa05203')\n",
    "genes = ParsePathway(pathway)"
   ]
  },
  {
   "cell_type": "markdown",
   "id": "ced73ec3",
   "metadata": {},
   "source": [
    "Ahora con el módulo de DataFrame juntaremos la información en un DataFrame.  "
   ]
  },
  {
   "cell_type": "code",
   "execution_count": 48,
   "id": "035c5bc4",
   "metadata": {},
   "outputs": [
    {
     "data": {
      "text/html": [
       "<div>\n",
       "<style scoped>\n",
       "    .dataframe tbody tr th:only-of-type {\n",
       "        vertical-align: middle;\n",
       "    }\n",
       "\n",
       "    .dataframe tbody tr th {\n",
       "        vertical-align: top;\n",
       "    }\n",
       "\n",
       "    .dataframe thead th {\n",
       "        text-align: right;\n",
       "    }\n",
       "</style>\n",
       "<table border=\"1\" class=\"dataframe\">\n",
       "  <thead>\n",
       "    <tr style=\"text-align: right;\">\n",
       "      <th></th>\n",
       "      <th>Entry</th>\n",
       "      <th>Name</th>\n",
       "      <th>Position</th>\n",
       "      <th>Pathways</th>\n",
       "    </tr>\n",
       "  </thead>\n",
       "  <tbody>\n",
       "    <tr>\n",
       "      <th>0</th>\n",
       "      <td>7157</td>\n",
       "      <td>[(RefSeq) tumor protein p53]</td>\n",
       "      <td>17p13.1</td>\n",
       "      <td>[(hsa01522, Endocrine resistance), (hsa01524, ...</td>\n",
       "    </tr>\n",
       "    <tr>\n",
       "      <th>1</th>\n",
       "      <td>7337</td>\n",
       "      <td>[(RefSeq) ubiquitin protein ligase E3A]</td>\n",
       "      <td>15q11.2</td>\n",
       "      <td>[(hsa04120, Ubiquitin mediated proteolysis), (...</td>\n",
       "    </tr>\n",
       "    <tr>\n",
       "      <th>2</th>\n",
       "      <td>1739</td>\n",
       "      <td>[(RefSeq) discs large MAGUK scaffold protein 1]</td>\n",
       "      <td>3q29</td>\n",
       "      <td>[(hsa04390, Hippo signaling pathway), (hsa0453...</td>\n",
       "    </tr>\n",
       "    <tr>\n",
       "      <th>3</th>\n",
       "      <td>23513</td>\n",
       "      <td>[(RefSeq) scribble planar cell polarity protein]</td>\n",
       "      <td>8q24.3</td>\n",
       "      <td>[(hsa04390, Hippo signaling pathway), (hsa0453...</td>\n",
       "    </tr>\n",
       "    <tr>\n",
       "      <th>4</th>\n",
       "      <td>5829</td>\n",
       "      <td>[(RefSeq) paxillin]</td>\n",
       "      <td>12q24.23</td>\n",
       "      <td>[(hsa04062, Chemokine signaling pathway), (hsa...</td>\n",
       "    </tr>\n",
       "  </tbody>\n",
       "</table>\n",
       "</div>"
      ],
      "text/plain": [
       "   Entry                                              Name  Position  \\\n",
       "0   7157                      [(RefSeq) tumor protein p53]   17p13.1   \n",
       "1   7337           [(RefSeq) ubiquitin protein ligase E3A]   15q11.2   \n",
       "2   1739   [(RefSeq) discs large MAGUK scaffold protein 1]      3q29   \n",
       "3  23513  [(RefSeq) scribble planar cell polarity protein]    8q24.3   \n",
       "4   5829                               [(RefSeq) paxillin]  12q24.23   \n",
       "\n",
       "                                            Pathways  \n",
       "0  [(hsa01522, Endocrine resistance), (hsa01524, ...  \n",
       "1  [(hsa04120, Ubiquitin mediated proteolysis), (...  \n",
       "2  [(hsa04390, Hippo signaling pathway), (hsa0453...  \n",
       "3  [(hsa04390, Hippo signaling pathway), (hsa0453...  \n",
       "4  [(hsa04062, Chemokine signaling pathway), (hsa...  "
      ]
     },
     "execution_count": 48,
     "metadata": {},
     "output_type": "execute_result"
    }
   ],
   "source": [
    "df_genes = ListToData(genes)\n",
    "df_genes.head()"
   ]
  },
  {
   "cell_type": "markdown",
   "id": "c8691f21",
   "metadata": {},
   "source": [
    "Mediante el código de acceso en la columna Entry observaremos cuáles son los genes que más se repiten"
   ]
  },
  {
   "cell_type": "code",
   "execution_count": 49,
   "id": "2f0390ee",
   "metadata": {},
   "outputs": [
    {
     "data": {
      "text/plain": [
       "271"
      ]
     },
     "execution_count": 49,
     "metadata": {},
     "output_type": "execute_result"
    }
   ],
   "source": [
    "df_genes.Entry.count()"
   ]
  },
  {
   "cell_type": "code",
   "execution_count": 50,
   "id": "75aa0a48",
   "metadata": {},
   "outputs": [
    {
     "data": {
      "text/plain": [
       "185"
      ]
     },
     "execution_count": 50,
     "metadata": {},
     "output_type": "execute_result"
    }
   ],
   "source": [
    "len(df_genes.Entry.unique())"
   ]
  },
  {
   "cell_type": "markdown",
   "id": "f07f1246",
   "metadata": {},
   "source": [
    "Obtenemos 271 genes en total, de los cuales 185 son diferentes."
   ]
  },
  {
   "cell_type": "code",
   "execution_count": 51,
   "id": "9b156d53",
   "metadata": {
    "scrolled": true
   },
   "outputs": [
    {
     "data": {
      "text/plain": [
       "7157      9\n",
       "5291      4\n",
       "8503      4\n",
       "5296      4\n",
       "5295      4\n",
       "5293      4\n",
       "1017      4\n",
       "5290      4\n",
       "1387      4\n",
       "2033      4\n",
       "5925      3\n",
       "1021      3\n",
       "6908      3\n",
       "9519      3\n",
       "4790      3\n",
       "4791      3\n",
       "5966      3\n",
       "5970      3\n",
       "387332    3\n",
       "9586      2\n",
       "90993     2\n",
       "11317     2\n",
       "5610      2\n",
       "8717      2\n",
       "64764     2\n",
       "3516      2\n",
       "595       2\n",
       "894       2\n",
       "896       2\n",
       "890       2\n",
       "8900      2\n",
       "898       2\n",
       "9134      2\n",
       "1237      2\n",
       "7531      2\n",
       "84699     2\n",
       "1026      2\n",
       "468       2\n",
       "7188      2\n",
       "148327    2\n",
       "836       2\n",
       "8517      2\n",
       "581       2\n",
       "7185      2\n",
       "7186      2\n",
       "7187      2\n",
       "3661      2\n",
       "1388      2\n",
       "1386      2\n",
       "10488     2\n",
       "1385      2\n",
       "1739      2\n",
       "Name: Entry, dtype: int64"
      ]
     },
     "execution_count": 51,
     "metadata": {},
     "output_type": "execute_result"
    }
   ],
   "source": [
    "counts = df_genes.Entry.value_counts() \n",
    "counts[counts > 1]"
   ]
  },
  {
   "cell_type": "markdown",
   "id": "0505ce5c",
   "metadata": {},
   "source": [
    "Consideramos que los genes expresados al menos 4 veces tienen una evidencia más significativa."
   ]
  },
  {
   "cell_type": "code",
   "execution_count": 22,
   "id": "ae2acc49",
   "metadata": {},
   "outputs": [],
   "source": [
    "signif_genes = counts[counts >= 4]\n",
    "signif_genes_ids = signif_genes.index"
   ]
  },
  {
   "cell_type": "code",
   "execution_count": 66,
   "id": "3079d09f",
   "metadata": {},
   "outputs": [
    {
     "data": {
      "text/html": [
       "<div>\n",
       "<style scoped>\n",
       "    .dataframe tbody tr th:only-of-type {\n",
       "        vertical-align: middle;\n",
       "    }\n",
       "\n",
       "    .dataframe tbody tr th {\n",
       "        vertical-align: top;\n",
       "    }\n",
       "\n",
       "    .dataframe thead th {\n",
       "        text-align: right;\n",
       "    }\n",
       "</style>\n",
       "<table border=\"1\" class=\"dataframe\">\n",
       "  <thead>\n",
       "    <tr style=\"text-align: right;\">\n",
       "      <th></th>\n",
       "      <th>Entry</th>\n",
       "      <th>Name</th>\n",
       "      <th>Position</th>\n",
       "      <th>Pathways</th>\n",
       "    </tr>\n",
       "  </thead>\n",
       "  <tbody>\n",
       "    <tr>\n",
       "      <th>0</th>\n",
       "      <td>7157</td>\n",
       "      <td>[(RefSeq) tumor protein p53]</td>\n",
       "      <td>17p13.1</td>\n",
       "      <td>[(hsa01522, Endocrine resistance), (hsa01524, ...</td>\n",
       "    </tr>\n",
       "    <tr>\n",
       "      <th>49</th>\n",
       "      <td>5290</td>\n",
       "      <td>[(RefSeq) phosphatidylinositol-4,5-bisphosphat...</td>\n",
       "      <td>3q26.32</td>\n",
       "      <td>[(hsa00562, Inositol phosphate metabolism), (h...</td>\n",
       "    </tr>\n",
       "    <tr>\n",
       "      <th>50</th>\n",
       "      <td>5291</td>\n",
       "      <td>[(RefSeq) phosphatidylinositol-4,5-bisphosphat...</td>\n",
       "      <td>3q22.3</td>\n",
       "      <td>[(hsa00562, Inositol phosphate metabolism), (h...</td>\n",
       "    </tr>\n",
       "    <tr>\n",
       "      <th>51</th>\n",
       "      <td>5293</td>\n",
       "      <td>[(RefSeq) phosphatidylinositol-4,5-bisphosphat...</td>\n",
       "      <td>1p36.22</td>\n",
       "      <td>[(hsa00562, Inositol phosphate metabolism), (h...</td>\n",
       "    </tr>\n",
       "    <tr>\n",
       "      <th>52</th>\n",
       "      <td>5295</td>\n",
       "      <td>[(RefSeq) phosphoinositide-3-kinase regulatory...</td>\n",
       "      <td>5q13.1</td>\n",
       "      <td>[(hsa01521, EGFR tyrosine kinase inhibitor res...</td>\n",
       "    </tr>\n",
       "    <tr>\n",
       "      <th>53</th>\n",
       "      <td>5296</td>\n",
       "      <td>[(RefSeq) phosphoinositide-3-kinase regulatory...</td>\n",
       "      <td>19p13.11</td>\n",
       "      <td>[(hsa01521, EGFR tyrosine kinase inhibitor res...</td>\n",
       "    </tr>\n",
       "    <tr>\n",
       "      <th>54</th>\n",
       "      <td>8503</td>\n",
       "      <td>[(RefSeq) phosphoinositide-3-kinase regulatory...</td>\n",
       "      <td>1p34.1</td>\n",
       "      <td>[(hsa01521, EGFR tyrosine kinase inhibitor res...</td>\n",
       "    </tr>\n",
       "    <tr>\n",
       "      <th>62</th>\n",
       "      <td>1017</td>\n",
       "      <td>[(RefSeq) cyclin dependent kinase 2]</td>\n",
       "      <td>12q13.2</td>\n",
       "      <td>[(hsa04068, FoxO signaling pathway), (hsa04110...</td>\n",
       "    </tr>\n",
       "    <tr>\n",
       "      <th>154</th>\n",
       "      <td>1387</td>\n",
       "      <td>[(RefSeq) CREB binding protein]</td>\n",
       "      <td>16p13.3</td>\n",
       "      <td>[(hsa04024, cAMP signaling pathway), (hsa04066...</td>\n",
       "    </tr>\n",
       "    <tr>\n",
       "      <th>155</th>\n",
       "      <td>2033</td>\n",
       "      <td>[(RefSeq) E1A binding protein p300]</td>\n",
       "      <td>22q13.2</td>\n",
       "      <td>[(hsa04024, cAMP signaling pathway), (hsa04066...</td>\n",
       "    </tr>\n",
       "  </tbody>\n",
       "</table>\n",
       "</div>"
      ],
      "text/plain": [
       "    Entry                                               Name  Position  \\\n",
       "0    7157                       [(RefSeq) tumor protein p53]   17p13.1   \n",
       "49   5290  [(RefSeq) phosphatidylinositol-4,5-bisphosphat...   3q26.32   \n",
       "50   5291  [(RefSeq) phosphatidylinositol-4,5-bisphosphat...    3q22.3   \n",
       "51   5293  [(RefSeq) phosphatidylinositol-4,5-bisphosphat...   1p36.22   \n",
       "52   5295  [(RefSeq) phosphoinositide-3-kinase regulatory...    5q13.1   \n",
       "53   5296  [(RefSeq) phosphoinositide-3-kinase regulatory...  19p13.11   \n",
       "54   8503  [(RefSeq) phosphoinositide-3-kinase regulatory...    1p34.1   \n",
       "62   1017               [(RefSeq) cyclin dependent kinase 2]   12q13.2   \n",
       "154  1387                    [(RefSeq) CREB binding protein]   16p13.3   \n",
       "155  2033                [(RefSeq) E1A binding protein p300]   22q13.2   \n",
       "\n",
       "                                              Pathways  \n",
       "0    [(hsa01522, Endocrine resistance), (hsa01524, ...  \n",
       "49   [(hsa00562, Inositol phosphate metabolism), (h...  \n",
       "50   [(hsa00562, Inositol phosphate metabolism), (h...  \n",
       "51   [(hsa00562, Inositol phosphate metabolism), (h...  \n",
       "52   [(hsa01521, EGFR tyrosine kinase inhibitor res...  \n",
       "53   [(hsa01521, EGFR tyrosine kinase inhibitor res...  \n",
       "54   [(hsa01521, EGFR tyrosine kinase inhibitor res...  \n",
       "62   [(hsa04068, FoxO signaling pathway), (hsa04110...  \n",
       "154  [(hsa04024, cAMP signaling pathway), (hsa04066...  \n",
       "155  [(hsa04024, cAMP signaling pathway), (hsa04066...  "
      ]
     },
     "execution_count": 66,
     "metadata": {},
     "output_type": "execute_result"
    }
   ],
   "source": [
    "# Quitamos líneas duplicadas del dataframe original \n",
    "df_genes = df_genes[~df_genes.Entry.duplicated()]\n",
    "\n",
    "# Separamos los genes significativos\n",
    "genes_data = df_genes[df_genes.Entry.isin(signif_genes_ids)]\n",
    "genes_data"
   ]
  },
  {
   "cell_type": "markdown",
   "id": "072ea787",
   "metadata": {},
   "source": [
    "Queremos obetner los nombres de los genes sin formato de lista para compararlos."
   ]
  },
  {
   "cell_type": "code",
   "execution_count": 45,
   "id": "3cd1cb93",
   "metadata": {},
   "outputs": [],
   "source": [
    "# Juntamos en una lista\n",
    "genes_list = genes_data.Name.to_list()\n",
    "\n",
    "# Cada elemento es una lista en sí, accedemos al elemento del nombre y quitamos '(RefSeq) '\n",
    "genes_list = [name[0].replace('(RefSeq) ', '') for name in genes_list]"
   ]
  },
  {
   "cell_type": "code",
   "execution_count": 46,
   "id": "645684c1",
   "metadata": {},
   "outputs": [
    {
     "data": {
      "text/plain": [
       "['tumor protein p53',\n",
       " 'phosphatidylinositol-4,5-bisphosphate 3-kinase catalytic subunit alpha',\n",
       " 'phosphatidylinositol-4,5-bisphosphate 3-kinase catalytic subunit beta',\n",
       " 'phosphatidylinositol-4,5-bisphosphate 3-kinase catalytic subunit delta',\n",
       " 'phosphoinositide-3-kinase regulatory subunit 1',\n",
       " 'phosphoinositide-3-kinase regulatory subunit 2',\n",
       " 'phosphoinositide-3-kinase regulatory subunit 3',\n",
       " 'cyclin dependent kinase 2',\n",
       " 'CREB binding protein',\n",
       " 'E1A binding protein p300']"
      ]
     },
     "execution_count": 46,
     "metadata": {},
     "output_type": "execute_result"
    }
   ],
   "source": [
    "genes_list"
   ]
  },
  {
   "cell_type": "code",
   "execution_count": 67,
   "id": "a994be09",
   "metadata": {},
   "outputs": [
    {
     "name": "stderr",
     "output_type": "stream",
     "text": [
      "/Users/cristina/miniconda3/envs/myenv/lib/python3.9/site-packages/pandas/core/indexing.py:1951: SettingWithCopyWarning: \n",
      "A value is trying to be set on a copy of a slice from a DataFrame.\n",
      "Try using .loc[row_indexer,col_indexer] = value instead\n",
      "\n",
      "See the caveats in the documentation: https://pandas.pydata.org/pandas-docs/stable/user_guide/indexing.html#returning-a-view-versus-a-copy\n",
      "  self.obj[selected_item_labels] = value\n"
     ]
    }
   ],
   "source": [
    "# Renombramos en DataFrame\n",
    "genes_data.loc[:,'Name'] = genes_list"
   ]
  },
  {
   "cell_type": "markdown",
   "id": "840f9ee9",
   "metadata": {},
   "source": [
    "A pesar de ser 10 genes diferentes observamos que varios se refieren a subunidades del mismo complejo proteico, lo que sugiere que el complejo participa en el proceso de carcinogénesis. Analizaremos ahora las vías de señalización en las que participan estos genes.\n",
    "\n",
    "Para cada gen en el DataFrame, la columna 'Pathways' contiene una lista con parejas (id, name) para el identificador y el nombre de la vía metabólica. Crearemos un nuevo DataFrame donde las líneas contengan (gen, id, name) para todas las vías de todos los genes. "
   ]
  },
  {
   "cell_type": "code",
   "execution_count": 70,
   "id": "79eda863",
   "metadata": {},
   "outputs": [],
   "source": [
    "pathway_list = []\n",
    "for index, gene in genes_data.iterrows():\n",
    "    # Accedemos a la lista con pathways\n",
    "    pathways = gene.Pathways\n",
    "    # Iteramos para guardar cada una como un renglón\n",
    "    for code, pathway in pathways:\n",
    "        pathway_list.append([gene.Entry, gene.Name, code, pathway])"
   ]
  },
  {
   "cell_type": "code",
   "execution_count": 73,
   "id": "34021398",
   "metadata": {},
   "outputs": [],
   "source": [
    "# Guardamos en un DataFrame\n",
    "df_pathways = pd.DataFrame(pathway_list, columns=['Gene_ID', 'Gene_Name', 'Pathway_ID', 'Pathway_Name'])"
   ]
  },
  {
   "cell_type": "code",
   "execution_count": 74,
   "id": "5e7c3835",
   "metadata": {},
   "outputs": [
    {
     "data": {
      "text/html": [
       "<div>\n",
       "<style scoped>\n",
       "    .dataframe tbody tr th:only-of-type {\n",
       "        vertical-align: middle;\n",
       "    }\n",
       "\n",
       "    .dataframe tbody tr th {\n",
       "        vertical-align: top;\n",
       "    }\n",
       "\n",
       "    .dataframe thead th {\n",
       "        text-align: right;\n",
       "    }\n",
       "</style>\n",
       "<table border=\"1\" class=\"dataframe\">\n",
       "  <thead>\n",
       "    <tr style=\"text-align: right;\">\n",
       "      <th></th>\n",
       "      <th>Gene_ID</th>\n",
       "      <th>Gene_Name</th>\n",
       "      <th>Pathway_ID</th>\n",
       "      <th>Pathway_Name</th>\n",
       "    </tr>\n",
       "  </thead>\n",
       "  <tbody>\n",
       "    <tr>\n",
       "      <th>0</th>\n",
       "      <td>7157</td>\n",
       "      <td>tumor protein p53</td>\n",
       "      <td>hsa01522</td>\n",
       "      <td>Endocrine resistance</td>\n",
       "    </tr>\n",
       "    <tr>\n",
       "      <th>1</th>\n",
       "      <td>7157</td>\n",
       "      <td>tumor protein p53</td>\n",
       "      <td>hsa01524</td>\n",
       "      <td>Platinum drug resistance</td>\n",
       "    </tr>\n",
       "    <tr>\n",
       "      <th>2</th>\n",
       "      <td>7157</td>\n",
       "      <td>tumor protein p53</td>\n",
       "      <td>hsa04010</td>\n",
       "      <td>MAPK signaling pathway</td>\n",
       "    </tr>\n",
       "    <tr>\n",
       "      <th>3</th>\n",
       "      <td>7157</td>\n",
       "      <td>tumor protein p53</td>\n",
       "      <td>hsa04071</td>\n",
       "      <td>Sphingolipid signaling pathway</td>\n",
       "    </tr>\n",
       "    <tr>\n",
       "      <th>4</th>\n",
       "      <td>7157</td>\n",
       "      <td>tumor protein p53</td>\n",
       "      <td>hsa04110</td>\n",
       "      <td>Cell cycle</td>\n",
       "    </tr>\n",
       "    <tr>\n",
       "      <th>...</th>\n",
       "      <td>...</td>\n",
       "      <td>...</td>\n",
       "      <td>...</td>\n",
       "      <td>...</td>\n",
       "    </tr>\n",
       "    <tr>\n",
       "      <th>744</th>\n",
       "      <td>2033</td>\n",
       "      <td>E1A binding protein p300</td>\n",
       "      <td>hsa05200</td>\n",
       "      <td>Pathways in cancer</td>\n",
       "    </tr>\n",
       "    <tr>\n",
       "      <th>745</th>\n",
       "      <td>2033</td>\n",
       "      <td>E1A binding protein p300</td>\n",
       "      <td>hsa05203</td>\n",
       "      <td>Viral carcinogenesis</td>\n",
       "    </tr>\n",
       "    <tr>\n",
       "      <th>746</th>\n",
       "      <td>2033</td>\n",
       "      <td>E1A binding protein p300</td>\n",
       "      <td>hsa05206</td>\n",
       "      <td>MicroRNAs in cancer</td>\n",
       "    </tr>\n",
       "    <tr>\n",
       "      <th>747</th>\n",
       "      <td>2033</td>\n",
       "      <td>E1A binding protein p300</td>\n",
       "      <td>hsa05211</td>\n",
       "      <td>Renal cell carcinoma</td>\n",
       "    </tr>\n",
       "    <tr>\n",
       "      <th>748</th>\n",
       "      <td>2033</td>\n",
       "      <td>E1A binding protein p300</td>\n",
       "      <td>hsa05215</td>\n",
       "      <td>Prostate cancer</td>\n",
       "    </tr>\n",
       "  </tbody>\n",
       "</table>\n",
       "<p>749 rows × 4 columns</p>\n",
       "</div>"
      ],
      "text/plain": [
       "    Gene_ID                 Gene_Name Pathway_ID  \\\n",
       "0      7157         tumor protein p53   hsa01522   \n",
       "1      7157         tumor protein p53   hsa01524   \n",
       "2      7157         tumor protein p53   hsa04010   \n",
       "3      7157         tumor protein p53   hsa04071   \n",
       "4      7157         tumor protein p53   hsa04110   \n",
       "..      ...                       ...        ...   \n",
       "744    2033  E1A binding protein p300   hsa05200   \n",
       "745    2033  E1A binding protein p300   hsa05203   \n",
       "746    2033  E1A binding protein p300   hsa05206   \n",
       "747    2033  E1A binding protein p300   hsa05211   \n",
       "748    2033  E1A binding protein p300   hsa05215   \n",
       "\n",
       "                       Pathway_Name  \n",
       "0              Endocrine resistance  \n",
       "1          Platinum drug resistance  \n",
       "2            MAPK signaling pathway  \n",
       "3    Sphingolipid signaling pathway  \n",
       "4                        Cell cycle  \n",
       "..                              ...  \n",
       "744              Pathways in cancer  \n",
       "745            Viral carcinogenesis  \n",
       "746             MicroRNAs in cancer  \n",
       "747            Renal cell carcinoma  \n",
       "748                 Prostate cancer  \n",
       "\n",
       "[749 rows x 4 columns]"
      ]
     },
     "execution_count": 74,
     "metadata": {},
     "output_type": "execute_result"
    }
   ],
   "source": [
    "df_pathways"
   ]
  }
 ],
 "metadata": {
  "kernelspec": {
   "display_name": "Python 3 (ipykernel)",
   "language": "python",
   "name": "python3"
  },
  "language_info": {
   "codemirror_mode": {
    "name": "ipython",
    "version": 3
   },
   "file_extension": ".py",
   "mimetype": "text/x-python",
   "name": "python",
   "nbconvert_exporter": "python",
   "pygments_lexer": "ipython3",
   "version": "3.9.1"
  }
 },
 "nbformat": 4,
 "nbformat_minor": 5
}
