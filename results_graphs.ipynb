{
 "cells": [
  {
   "cell_type": "markdown",
   "id": "ffcd2c33",
   "metadata": {},
   "source": [
    "## Identificación de genes involucrados en carcinogénesis viral  \n",
    "\n",
    "Luz Rosario Guevara Cruz (lguevara@lcg.unam.mx)  \\\n",
    "Cristina Sotomayor Vivas (cristina@lcg.unam.mx)  \n",
    "\n",
    "En este notebook realizaremos el análisis de la vía de señalización de carcinogénesis viral, con datos obtenidos de la base de datos KEGG."
   ]
  },
  {
   "cell_type": "code",
   "execution_count": 1,
   "id": "ae450cfc",
   "metadata": {},
   "outputs": [],
   "source": [
    "import pandas as pd\n",
    "import matplotlib.pyplot as plt\n",
    "import seaborn as sns\n",
    "\n",
    "from attributes import *"
   ]
  },
  {
   "cell_type": "markdown",
   "id": "7175238a",
   "metadata": {},
   "source": [
    "Primero, utilizaremos el script `analyze_pathways`, el cual nos permitirá descargar los datos de KEGG en un csv. Posteriormente, leeremos esos datos con las funciones del módulo `attributes`. El código de acceso de la vía de interés es 'hsa05203'."
   ]
  },
  {
   "cell_type": "code",
   "execution_count": 2,
   "id": "136071e8",
   "metadata": {},
   "outputs": [
    {
     "name": "stdout",
     "output_type": "stream",
     "text": [
      "usage: analyze_pathways.py [-h] -i IDS [IDS ...] [-p PATH]\n",
      "\n",
      "Given pathway IDs, save information from KEGG database as csv for each\n",
      "pathway.\n",
      "\n",
      "optional arguments:\n",
      "  -h, --help            show this help message and exit\n",
      "  -i IDS [IDS ...], --ids IDS [IDS ...]\n",
      "                        Pathway IDs, three letter organism code + five digit\n",
      "                        identifier each, separated by a space\n",
      "  -p PATH, --path PATH  Path to save csv files. If not given, saved in cwd\n"
     ]
    }
   ],
   "source": [
    "%run analyze_pathways.py -h"
   ]
  },
  {
   "cell_type": "markdown",
   "id": "e7d6ca1b",
   "metadata": {},
   "source": [
    "En terminal:"
   ]
  },
  {
   "cell_type": "raw",
   "id": "3019b52d",
   "metadata": {},
   "source": [
    "python analyze_pathways.py --ids hsa05203 --path data"
   ]
  },
  {
   "cell_type": "markdown",
   "id": "d1f2b097",
   "metadata": {},
   "source": [
    "En jupyter:"
   ]
  },
  {
   "cell_type": "raw",
   "id": "5bcc142f",
   "metadata": {},
   "source": [
    "%run analyze_pathways.py --ids hsa05203 --path data"
   ]
  },
  {
   "cell_type": "code",
   "execution_count": 3,
   "id": "77ec72ba",
   "metadata": {},
   "outputs": [
    {
     "data": {
      "text/html": [
       "<div>\n",
       "<style scoped>\n",
       "    .dataframe tbody tr th:only-of-type {\n",
       "        vertical-align: middle;\n",
       "    }\n",
       "\n",
       "    .dataframe tbody tr th {\n",
       "        vertical-align: top;\n",
       "    }\n",
       "\n",
       "    .dataframe thead th {\n",
       "        text-align: right;\n",
       "    }\n",
       "</style>\n",
       "<table border=\"1\" class=\"dataframe\">\n",
       "  <thead>\n",
       "    <tr style=\"text-align: right;\">\n",
       "      <th></th>\n",
       "      <th>Entry</th>\n",
       "      <th>Name</th>\n",
       "      <th>Position</th>\n",
       "      <th>Pathways</th>\n",
       "    </tr>\n",
       "  </thead>\n",
       "  <tbody>\n",
       "    <tr>\n",
       "      <th>0</th>\n",
       "      <td>7157</td>\n",
       "      <td>tumor protein p53</td>\n",
       "      <td>17p13.1</td>\n",
       "      <td>[(hsa01522, Endocrine resistance), (hsa01524, ...</td>\n",
       "    </tr>\n",
       "    <tr>\n",
       "      <th>1</th>\n",
       "      <td>7337</td>\n",
       "      <td>ubiquitin protein ligase E3A</td>\n",
       "      <td>15q11.2</td>\n",
       "      <td>[(hsa04120, Ubiquitin mediated proteolysis), (...</td>\n",
       "    </tr>\n",
       "    <tr>\n",
       "      <th>2</th>\n",
       "      <td>1739</td>\n",
       "      <td>discs large MAGUK scaffold protein 1</td>\n",
       "      <td>3q29</td>\n",
       "      <td>[(hsa04390, Hippo signaling pathway), (hsa0453...</td>\n",
       "    </tr>\n",
       "    <tr>\n",
       "      <th>3</th>\n",
       "      <td>23513</td>\n",
       "      <td>scribble planar cell polarity protein</td>\n",
       "      <td>8q24.3</td>\n",
       "      <td>[(hsa04390, Hippo signaling pathway), (hsa0453...</td>\n",
       "    </tr>\n",
       "    <tr>\n",
       "      <th>4</th>\n",
       "      <td>5829</td>\n",
       "      <td>paxillin</td>\n",
       "      <td>12q24.23</td>\n",
       "      <td>[(hsa04062, Chemokine signaling pathway), (hsa...</td>\n",
       "    </tr>\n",
       "  </tbody>\n",
       "</table>\n",
       "</div>"
      ],
      "text/plain": [
       "   Entry                                   Name  Position  \\\n",
       "0   7157                      tumor protein p53   17p13.1   \n",
       "1   7337           ubiquitin protein ligase E3A   15q11.2   \n",
       "2   1739   discs large MAGUK scaffold protein 1      3q29   \n",
       "3  23513  scribble planar cell polarity protein    8q24.3   \n",
       "4   5829                               paxillin  12q24.23   \n",
       "\n",
       "                                            Pathways  \n",
       "0  [(hsa01522, Endocrine resistance), (hsa01524, ...  \n",
       "1  [(hsa04120, Ubiquitin mediated proteolysis), (...  \n",
       "2  [(hsa04390, Hippo signaling pathway), (hsa0453...  \n",
       "3  [(hsa04390, Hippo signaling pathway), (hsa0453...  \n",
       "4  [(hsa04062, Chemokine signaling pathway), (hsa...  "
      ]
     },
     "execution_count": 3,
     "metadata": {},
     "output_type": "execute_result"
    }
   ],
   "source": [
    "pathway_df = read_pathways('data/hsa05203.csv')\n",
    "pathway_df.head()"
   ]
  },
  {
   "cell_type": "markdown",
   "id": "0dc7238d",
   "metadata": {},
   "source": [
    "Por medio de la columna 'Entry', podemos contar cuantas veces aparece cada gen, y posteriormente vemos cuáles se repiten más. "
   ]
  },
  {
   "cell_type": "code",
   "execution_count": 4,
   "id": "19bc905d",
   "metadata": {},
   "outputs": [
    {
     "data": {
      "text/plain": [
       "7157    9\n",
       "5291    4\n",
       "8503    4\n",
       "5296    4\n",
       "5295    4\n",
       "Name: Entry, dtype: int64"
      ]
     },
     "execution_count": 4,
     "metadata": {},
     "output_type": "execute_result"
    }
   ],
   "source": [
    "counts = pathway_df.Entry.value_counts() \n",
    "counts[counts > 1].head()"
   ]
  },
  {
   "cell_type": "markdown",
   "id": "99096754",
   "metadata": {},
   "source": [
    "Consideramos que los genes que aparecen al menos 4 veces son los más significativos, nos enfocamos en ellos. "
   ]
  },
  {
   "cell_type": "code",
   "execution_count": 5,
   "id": "b6083c64",
   "metadata": {},
   "outputs": [],
   "source": [
    "signif_genes = counts[counts >= 4]\n",
    "\n",
    "# Guardamos IDs\n",
    "signif_genes_ids = signif_genes.index"
   ]
  },
  {
   "cell_type": "code",
   "execution_count": 6,
   "id": "6b278da4",
   "metadata": {},
   "outputs": [
    {
     "data": {
      "text/html": [
       "<div>\n",
       "<style scoped>\n",
       "    .dataframe tbody tr th:only-of-type {\n",
       "        vertical-align: middle;\n",
       "    }\n",
       "\n",
       "    .dataframe tbody tr th {\n",
       "        vertical-align: top;\n",
       "    }\n",
       "\n",
       "    .dataframe thead th {\n",
       "        text-align: right;\n",
       "    }\n",
       "</style>\n",
       "<table border=\"1\" class=\"dataframe\">\n",
       "  <thead>\n",
       "    <tr style=\"text-align: right;\">\n",
       "      <th></th>\n",
       "      <th>Entry</th>\n",
       "      <th>Name</th>\n",
       "      <th>Position</th>\n",
       "      <th>Pathways</th>\n",
       "    </tr>\n",
       "  </thead>\n",
       "  <tbody>\n",
       "    <tr>\n",
       "      <th>0</th>\n",
       "      <td>7157</td>\n",
       "      <td>tumor protein p53</td>\n",
       "      <td>17p13.1</td>\n",
       "      <td>[(hsa01522, Endocrine resistance), (hsa01524, ...</td>\n",
       "    </tr>\n",
       "    <tr>\n",
       "      <th>49</th>\n",
       "      <td>5290</td>\n",
       "      <td>phosphatidylinositol-4,5-bisphosphate 3-kinase...</td>\n",
       "      <td>3q26.32</td>\n",
       "      <td>[(hsa00562, Inositol phosphate metabolism), (h...</td>\n",
       "    </tr>\n",
       "    <tr>\n",
       "      <th>50</th>\n",
       "      <td>5291</td>\n",
       "      <td>phosphatidylinositol-4,5-bisphosphate 3-kinase...</td>\n",
       "      <td>3q22.3</td>\n",
       "      <td>[(hsa00562, Inositol phosphate metabolism), (h...</td>\n",
       "    </tr>\n",
       "    <tr>\n",
       "      <th>51</th>\n",
       "      <td>5293</td>\n",
       "      <td>phosphatidylinositol-4,5-bisphosphate 3-kinase...</td>\n",
       "      <td>1p36.22</td>\n",
       "      <td>[(hsa00562, Inositol phosphate metabolism), (h...</td>\n",
       "    </tr>\n",
       "    <tr>\n",
       "      <th>52</th>\n",
       "      <td>5295</td>\n",
       "      <td>phosphoinositide-3-kinase regulatory subunit 1</td>\n",
       "      <td>5q13.1</td>\n",
       "      <td>[(hsa01521, EGFR tyrosine kinase inhibitor res...</td>\n",
       "    </tr>\n",
       "    <tr>\n",
       "      <th>53</th>\n",
       "      <td>5296</td>\n",
       "      <td>phosphoinositide-3-kinase regulatory subunit 2</td>\n",
       "      <td>19p13.11</td>\n",
       "      <td>[(hsa01521, EGFR tyrosine kinase inhibitor res...</td>\n",
       "    </tr>\n",
       "    <tr>\n",
       "      <th>54</th>\n",
       "      <td>8503</td>\n",
       "      <td>phosphoinositide-3-kinase regulatory subunit 3</td>\n",
       "      <td>1p34.1</td>\n",
       "      <td>[(hsa01521, EGFR tyrosine kinase inhibitor res...</td>\n",
       "    </tr>\n",
       "    <tr>\n",
       "      <th>62</th>\n",
       "      <td>1017</td>\n",
       "      <td>cyclin dependent kinase 2</td>\n",
       "      <td>12q13.2</td>\n",
       "      <td>[(hsa04068, FoxO signaling pathway), (hsa04110...</td>\n",
       "    </tr>\n",
       "    <tr>\n",
       "      <th>154</th>\n",
       "      <td>1387</td>\n",
       "      <td>CREB binding protein</td>\n",
       "      <td>16p13.3</td>\n",
       "      <td>[(hsa04024, cAMP signaling pathway), (hsa04066...</td>\n",
       "    </tr>\n",
       "    <tr>\n",
       "      <th>155</th>\n",
       "      <td>2033</td>\n",
       "      <td>E1A binding protein p300</td>\n",
       "      <td>22q13.2</td>\n",
       "      <td>[(hsa04024, cAMP signaling pathway), (hsa04066...</td>\n",
       "    </tr>\n",
       "  </tbody>\n",
       "</table>\n",
       "</div>"
      ],
      "text/plain": [
       "     Entry                                               Name  Position  \\\n",
       "0     7157                                  tumor protein p53   17p13.1   \n",
       "49    5290  phosphatidylinositol-4,5-bisphosphate 3-kinase...   3q26.32   \n",
       "50    5291  phosphatidylinositol-4,5-bisphosphate 3-kinase...    3q22.3   \n",
       "51    5293  phosphatidylinositol-4,5-bisphosphate 3-kinase...   1p36.22   \n",
       "52    5295     phosphoinositide-3-kinase regulatory subunit 1    5q13.1   \n",
       "53    5296     phosphoinositide-3-kinase regulatory subunit 2  19p13.11   \n",
       "54    8503     phosphoinositide-3-kinase regulatory subunit 3    1p34.1   \n",
       "62    1017                          cyclin dependent kinase 2   12q13.2   \n",
       "154   1387                               CREB binding protein   16p13.3   \n",
       "155   2033                           E1A binding protein p300   22q13.2   \n",
       "\n",
       "                                              Pathways  \n",
       "0    [(hsa01522, Endocrine resistance), (hsa01524, ...  \n",
       "49   [(hsa00562, Inositol phosphate metabolism), (h...  \n",
       "50   [(hsa00562, Inositol phosphate metabolism), (h...  \n",
       "51   [(hsa00562, Inositol phosphate metabolism), (h...  \n",
       "52   [(hsa01521, EGFR tyrosine kinase inhibitor res...  \n",
       "53   [(hsa01521, EGFR tyrosine kinase inhibitor res...  \n",
       "54   [(hsa01521, EGFR tyrosine kinase inhibitor res...  \n",
       "62   [(hsa04068, FoxO signaling pathway), (hsa04110...  \n",
       "154  [(hsa04024, cAMP signaling pathway), (hsa04066...  \n",
       "155  [(hsa04024, cAMP signaling pathway), (hsa04066...  "
      ]
     },
     "execution_count": 6,
     "metadata": {},
     "output_type": "execute_result"
    }
   ],
   "source": [
    "# Quitamos líneas duplicadas del dataframe original \n",
    "pathway_df = pathway_df[~pathway_df.Entry.duplicated()]\n",
    "\n",
    "# Separamos los genes significativos\n",
    "genes_data = pathway_df[pathway_df.Entry.isin(signif_genes_ids)]\n",
    "genes_data"
   ]
  },
  {
   "cell_type": "code",
   "execution_count": 7,
   "id": "ce5bf0e4",
   "metadata": {},
   "outputs": [
    {
     "data": {
      "text/plain": [
       "['tumor protein p53',\n",
       " 'phosphatidylinositol-4,5-bisphosphate 3-kinase catalytic subunit alpha',\n",
       " 'phosphatidylinositol-4,5-bisphosphate 3-kinase catalytic subunit beta',\n",
       " 'phosphatidylinositol-4,5-bisphosphate 3-kinase catalytic subunit delta',\n",
       " 'phosphoinositide-3-kinase regulatory subunit 1',\n",
       " 'phosphoinositide-3-kinase regulatory subunit 2',\n",
       " 'phosphoinositide-3-kinase regulatory subunit 3',\n",
       " 'cyclin dependent kinase 2',\n",
       " 'CREB binding protein',\n",
       " 'E1A binding protein p300']"
      ]
     },
     "execution_count": 7,
     "metadata": {},
     "output_type": "execute_result"
    }
   ],
   "source": [
    "genes_data.Name.to_list()"
   ]
  },
  {
   "cell_type": "markdown",
   "id": "d85ebbb7",
   "metadata": {},
   "source": [
    "A pesar de ser 10 genes diferentes observamos que varios se refieren a subunidades del mismo complejo proteico, lo que sugiere que el complejo participa en el proceso de carcinogénesis. "
   ]
  },
  {
   "cell_type": "code",
   "execution_count": 8,
   "id": "f5a0ea77",
   "metadata": {},
   "outputs": [],
   "source": [
    "# Guardamos las repeticiones de genes en un DataFrame \n",
    "signif_df = signif_genes.to_frame().reset_index()\n",
    "signif_df.columns = ['Entry', 'Repetitions']"
   ]
  },
  {
   "cell_type": "code",
   "execution_count": 9,
   "id": "410166a7",
   "metadata": {},
   "outputs": [],
   "source": [
    "# Añadimos repeticiones al DataFrame original\n",
    "genes_data = genes_data.merge(signif_df)"
   ]
  },
  {
   "cell_type": "markdown",
   "id": "074a3169",
   "metadata": {},
   "source": [
    "Analizaremos ahora las vías de señalización en las que participan estos genes. Con la función `SplitData` del módulo `attributes`, separamos los datos, de modo que tenemos un renglón por cada vía de la lista encontrada en Pathways para cada gen. "
   ]
  },
  {
   "cell_type": "code",
   "execution_count": 10,
   "id": "b5c2f6db",
   "metadata": {},
   "outputs": [
    {
     "data": {
      "text/html": [
       "<div>\n",
       "<style scoped>\n",
       "    .dataframe tbody tr th:only-of-type {\n",
       "        vertical-align: middle;\n",
       "    }\n",
       "\n",
       "    .dataframe tbody tr th {\n",
       "        vertical-align: top;\n",
       "    }\n",
       "\n",
       "    .dataframe thead th {\n",
       "        text-align: right;\n",
       "    }\n",
       "</style>\n",
       "<table border=\"1\" class=\"dataframe\">\n",
       "  <thead>\n",
       "    <tr style=\"text-align: right;\">\n",
       "      <th></th>\n",
       "      <th>Gene_ID</th>\n",
       "      <th>Gene_Name</th>\n",
       "      <th>Pathway_ID</th>\n",
       "      <th>Pathway_Name</th>\n",
       "    </tr>\n",
       "  </thead>\n",
       "  <tbody>\n",
       "    <tr>\n",
       "      <th>0</th>\n",
       "      <td>7157</td>\n",
       "      <td>tumor protein p53</td>\n",
       "      <td>hsa01522</td>\n",
       "      <td>Endocrine resistance</td>\n",
       "    </tr>\n",
       "    <tr>\n",
       "      <th>1</th>\n",
       "      <td>7157</td>\n",
       "      <td>tumor protein p53</td>\n",
       "      <td>hsa01524</td>\n",
       "      <td>Platinum drug resistance</td>\n",
       "    </tr>\n",
       "    <tr>\n",
       "      <th>2</th>\n",
       "      <td>7157</td>\n",
       "      <td>tumor protein p53</td>\n",
       "      <td>hsa04010</td>\n",
       "      <td>MAPK signaling pathway</td>\n",
       "    </tr>\n",
       "    <tr>\n",
       "      <th>3</th>\n",
       "      <td>7157</td>\n",
       "      <td>tumor protein p53</td>\n",
       "      <td>hsa04071</td>\n",
       "      <td>Sphingolipid signaling pathway</td>\n",
       "    </tr>\n",
       "    <tr>\n",
       "      <th>4</th>\n",
       "      <td>7157</td>\n",
       "      <td>tumor protein p53</td>\n",
       "      <td>hsa04110</td>\n",
       "      <td>Cell cycle</td>\n",
       "    </tr>\n",
       "  </tbody>\n",
       "</table>\n",
       "</div>"
      ],
      "text/plain": [
       "   Gene_ID          Gene_Name Pathway_ID                    Pathway_Name\n",
       "0     7157  tumor protein p53   hsa01522            Endocrine resistance\n",
       "1     7157  tumor protein p53   hsa01524        Platinum drug resistance\n",
       "2     7157  tumor protein p53   hsa04010          MAPK signaling pathway\n",
       "3     7157  tumor protein p53   hsa04071  Sphingolipid signaling pathway\n",
       "4     7157  tumor protein p53   hsa04110                      Cell cycle"
      ]
     },
     "execution_count": 10,
     "metadata": {},
     "output_type": "execute_result"
    }
   ],
   "source": [
    "split_df = split_data(genes_data)\n",
    "split_df.head()"
   ]
  },
  {
   "cell_type": "markdown",
   "id": "b5d869c5",
   "metadata": {},
   "source": [
    "Se obtiene el número de repeticiones de los pathways. "
   ]
  },
  {
   "cell_type": "code",
   "execution_count": 11,
   "id": "70a692e0",
   "metadata": {},
   "outputs": [
    {
     "data": {
      "text/plain": [
       "Human T-cell leukemia virus 1 infection    10\n",
       "Prostate cancer                            10\n",
       "Hepatitis B                                10\n",
       "Pathways in cancer                         10\n",
       "Human papillomavirus infection             10\n",
       "                                           ..\n",
       "Long-term potentiation                      2\n",
       "Adherens junction                           2\n",
       "TGF-beta signaling pathway                  2\n",
       "Notch signaling pathway                     2\n",
       "Tuberculosis                                2\n",
       "Name: Pathway_Name, Length: 117, dtype: int64"
      ]
     },
     "execution_count": 11,
     "metadata": {},
     "output_type": "execute_result"
    }
   ],
   "source": [
    "path_counts = split_df.Pathway_Name.value_counts() \n",
    "path_counts[path_counts > 1]"
   ]
  },
  {
   "cell_type": "markdown",
   "id": "ce3a31f0",
   "metadata": {},
   "source": [
    "Vemos que muchas de las vías obtenidas son de cáncer, que surgen porque son genes asociados a esta enfermedad. Podemos preguntarnos específicamente por las vías de señalización involucradas, filtrando por la palabra 'signaling'.  "
   ]
  },
  {
   "cell_type": "code",
   "execution_count": 12,
   "id": "217d251a",
   "metadata": {
    "scrolled": true
   },
   "outputs": [
    {
     "data": {
      "text/html": [
       "<div>\n",
       "<style scoped>\n",
       "    .dataframe tbody tr th:only-of-type {\n",
       "        vertical-align: middle;\n",
       "    }\n",
       "\n",
       "    .dataframe tbody tr th {\n",
       "        vertical-align: top;\n",
       "    }\n",
       "\n",
       "    .dataframe thead th {\n",
       "        text-align: right;\n",
       "    }\n",
       "</style>\n",
       "<table border=\"1\" class=\"dataframe\">\n",
       "  <thead>\n",
       "    <tr style=\"text-align: right;\">\n",
       "      <th></th>\n",
       "      <th>Pathway_Name</th>\n",
       "      <th>Repetitions</th>\n",
       "    </tr>\n",
       "  </thead>\n",
       "  <tbody>\n",
       "    <tr>\n",
       "      <th>7</th>\n",
       "      <td>FoxO signaling pathway</td>\n",
       "      <td>9</td>\n",
       "    </tr>\n",
       "    <tr>\n",
       "      <th>9</th>\n",
       "      <td>Thyroid hormone signaling pathway</td>\n",
       "      <td>9</td>\n",
       "    </tr>\n",
       "    <tr>\n",
       "      <th>17</th>\n",
       "      <td>cAMP signaling pathway</td>\n",
       "      <td>8</td>\n",
       "    </tr>\n",
       "    <tr>\n",
       "      <th>19</th>\n",
       "      <td>PI3K-Akt signaling pathway</td>\n",
       "      <td>8</td>\n",
       "    </tr>\n",
       "    <tr>\n",
       "      <th>20</th>\n",
       "      <td>HIF-1 signaling pathway</td>\n",
       "      <td>8</td>\n",
       "    </tr>\n",
       "    <tr>\n",
       "      <th>21</th>\n",
       "      <td>JAK-STAT signaling pathway</td>\n",
       "      <td>8</td>\n",
       "    </tr>\n",
       "    <tr>\n",
       "      <th>38</th>\n",
       "      <td>Sphingolipid signaling pathway</td>\n",
       "      <td>7</td>\n",
       "    </tr>\n",
       "    <tr>\n",
       "      <th>41</th>\n",
       "      <td>Neurotrophin signaling pathway</td>\n",
       "      <td>7</td>\n",
       "    </tr>\n",
       "    <tr>\n",
       "      <th>49</th>\n",
       "      <td>Relaxin signaling pathway</td>\n",
       "      <td>6</td>\n",
       "    </tr>\n",
       "    <tr>\n",
       "      <th>51</th>\n",
       "      <td>Prolactin signaling pathway</td>\n",
       "      <td>6</td>\n",
       "    </tr>\n",
       "    <tr>\n",
       "      <th>52</th>\n",
       "      <td>Estrogen signaling pathway</td>\n",
       "      <td>6</td>\n",
       "    </tr>\n",
       "    <tr>\n",
       "      <th>54</th>\n",
       "      <td>Insulin signaling pathway</td>\n",
       "      <td>6</td>\n",
       "    </tr>\n",
       "    <tr>\n",
       "      <th>60</th>\n",
       "      <td>TNF signaling pathway</td>\n",
       "      <td>6</td>\n",
       "    </tr>\n",
       "    <tr>\n",
       "      <th>63</th>\n",
       "      <td>AGE-RAGE signaling pathway in diabetic complic...</td>\n",
       "      <td>6</td>\n",
       "    </tr>\n",
       "    <tr>\n",
       "      <th>76</th>\n",
       "      <td>Fc epsilon RI signaling pathway</td>\n",
       "      <td>6</td>\n",
       "    </tr>\n",
       "    <tr>\n",
       "      <th>80</th>\n",
       "      <td>mTOR signaling pathway</td>\n",
       "      <td>6</td>\n",
       "    </tr>\n",
       "    <tr>\n",
       "      <th>81</th>\n",
       "      <td>B cell receptor signaling pathway</td>\n",
       "      <td>6</td>\n",
       "    </tr>\n",
       "    <tr>\n",
       "      <th>82</th>\n",
       "      <td>AMPK signaling pathway</td>\n",
       "      <td>6</td>\n",
       "    </tr>\n",
       "    <tr>\n",
       "      <th>83</th>\n",
       "      <td>T cell receptor signaling pathway</td>\n",
       "      <td>6</td>\n",
       "    </tr>\n",
       "    <tr>\n",
       "      <th>85</th>\n",
       "      <td>ErbB signaling pathway</td>\n",
       "      <td>6</td>\n",
       "    </tr>\n",
       "    <tr>\n",
       "      <th>86</th>\n",
       "      <td>Ras signaling pathway</td>\n",
       "      <td>6</td>\n",
       "    </tr>\n",
       "    <tr>\n",
       "      <th>87</th>\n",
       "      <td>Rap1 signaling pathway</td>\n",
       "      <td>6</td>\n",
       "    </tr>\n",
       "    <tr>\n",
       "      <th>88</th>\n",
       "      <td>Chemokine signaling pathway</td>\n",
       "      <td>6</td>\n",
       "    </tr>\n",
       "    <tr>\n",
       "      <th>89</th>\n",
       "      <td>Phosphatidylinositol signaling system</td>\n",
       "      <td>6</td>\n",
       "    </tr>\n",
       "    <tr>\n",
       "      <th>90</th>\n",
       "      <td>Phospholipase D signaling pathway</td>\n",
       "      <td>6</td>\n",
       "    </tr>\n",
       "    <tr>\n",
       "      <th>94</th>\n",
       "      <td>VEGF signaling pathway</td>\n",
       "      <td>6</td>\n",
       "    </tr>\n",
       "    <tr>\n",
       "      <th>100</th>\n",
       "      <td>Toll-like receptor signaling pathway</td>\n",
       "      <td>6</td>\n",
       "    </tr>\n",
       "    <tr>\n",
       "      <th>101</th>\n",
       "      <td>C-type lectin receptor signaling pathway</td>\n",
       "      <td>6</td>\n",
       "    </tr>\n",
       "    <tr>\n",
       "      <th>105</th>\n",
       "      <td>Wnt signaling pathway</td>\n",
       "      <td>3</td>\n",
       "    </tr>\n",
       "    <tr>\n",
       "      <th>109</th>\n",
       "      <td>p53 signaling pathway</td>\n",
       "      <td>2</td>\n",
       "    </tr>\n",
       "    <tr>\n",
       "      <th>110</th>\n",
       "      <td>Glucagon signaling pathway</td>\n",
       "      <td>2</td>\n",
       "    </tr>\n",
       "    <tr>\n",
       "      <th>114</th>\n",
       "      <td>TGF-beta signaling pathway</td>\n",
       "      <td>2</td>\n",
       "    </tr>\n",
       "    <tr>\n",
       "      <th>115</th>\n",
       "      <td>Notch signaling pathway</td>\n",
       "      <td>2</td>\n",
       "    </tr>\n",
       "    <tr>\n",
       "      <th>118</th>\n",
       "      <td>MAPK signaling pathway</td>\n",
       "      <td>1</td>\n",
       "    </tr>\n",
       "  </tbody>\n",
       "</table>\n",
       "</div>"
      ],
      "text/plain": [
       "                                          Pathway_Name  Repetitions\n",
       "7                               FoxO signaling pathway            9\n",
       "9                    Thyroid hormone signaling pathway            9\n",
       "17                              cAMP signaling pathway            8\n",
       "19                          PI3K-Akt signaling pathway            8\n",
       "20                             HIF-1 signaling pathway            8\n",
       "21                          JAK-STAT signaling pathway            8\n",
       "38                      Sphingolipid signaling pathway            7\n",
       "41                      Neurotrophin signaling pathway            7\n",
       "49                           Relaxin signaling pathway            6\n",
       "51                         Prolactin signaling pathway            6\n",
       "52                          Estrogen signaling pathway            6\n",
       "54                           Insulin signaling pathway            6\n",
       "60                               TNF signaling pathway            6\n",
       "63   AGE-RAGE signaling pathway in diabetic complic...            6\n",
       "76                     Fc epsilon RI signaling pathway            6\n",
       "80                              mTOR signaling pathway            6\n",
       "81                   B cell receptor signaling pathway            6\n",
       "82                              AMPK signaling pathway            6\n",
       "83                   T cell receptor signaling pathway            6\n",
       "85                              ErbB signaling pathway            6\n",
       "86                               Ras signaling pathway            6\n",
       "87                              Rap1 signaling pathway            6\n",
       "88                         Chemokine signaling pathway            6\n",
       "89               Phosphatidylinositol signaling system            6\n",
       "90                   Phospholipase D signaling pathway            6\n",
       "94                              VEGF signaling pathway            6\n",
       "100               Toll-like receptor signaling pathway            6\n",
       "101           C-type lectin receptor signaling pathway            6\n",
       "105                              Wnt signaling pathway            3\n",
       "109                              p53 signaling pathway            2\n",
       "110                         Glucagon signaling pathway            2\n",
       "114                         TGF-beta signaling pathway            2\n",
       "115                            Notch signaling pathway            2\n",
       "118                             MAPK signaling pathway            1"
      ]
     },
     "execution_count": 12,
     "metadata": {},
     "output_type": "execute_result"
    }
   ],
   "source": [
    "# Obtenemos un DataFrame de la serie \n",
    "path_counts = path_counts.to_frame().reset_index()\n",
    "path_counts.columns = ['Pathway_Name', 'Repetitions']\n",
    "\n",
    "# Filtramos por la palabra signaling\n",
    "path_counts = path_counts[path_counts.Pathway_Name.str.contains('signaling')]\n",
    "path_counts"
   ]
  },
  {
   "cell_type": "markdown",
   "id": "207ccf07",
   "metadata": {},
   "source": [
    "Consideraremos que las que aparecen al menos 7 veces son significativas. "
   ]
  },
  {
   "cell_type": "code",
   "execution_count": 13,
   "id": "0571ed14",
   "metadata": {},
   "outputs": [
    {
     "data": {
      "text/html": [
       "<div>\n",
       "<style scoped>\n",
       "    .dataframe tbody tr th:only-of-type {\n",
       "        vertical-align: middle;\n",
       "    }\n",
       "\n",
       "    .dataframe tbody tr th {\n",
       "        vertical-align: top;\n",
       "    }\n",
       "\n",
       "    .dataframe thead th {\n",
       "        text-align: right;\n",
       "    }\n",
       "</style>\n",
       "<table border=\"1\" class=\"dataframe\">\n",
       "  <thead>\n",
       "    <tr style=\"text-align: right;\">\n",
       "      <th></th>\n",
       "      <th>Pathway_Name</th>\n",
       "      <th>Repetitions</th>\n",
       "    </tr>\n",
       "  </thead>\n",
       "  <tbody>\n",
       "    <tr>\n",
       "      <th>7</th>\n",
       "      <td>FoxO signaling pathway</td>\n",
       "      <td>9</td>\n",
       "    </tr>\n",
       "    <tr>\n",
       "      <th>9</th>\n",
       "      <td>Thyroid hormone signaling pathway</td>\n",
       "      <td>9</td>\n",
       "    </tr>\n",
       "    <tr>\n",
       "      <th>17</th>\n",
       "      <td>cAMP signaling pathway</td>\n",
       "      <td>8</td>\n",
       "    </tr>\n",
       "    <tr>\n",
       "      <th>19</th>\n",
       "      <td>PI3K-Akt signaling pathway</td>\n",
       "      <td>8</td>\n",
       "    </tr>\n",
       "    <tr>\n",
       "      <th>20</th>\n",
       "      <td>HIF-1 signaling pathway</td>\n",
       "      <td>8</td>\n",
       "    </tr>\n",
       "    <tr>\n",
       "      <th>21</th>\n",
       "      <td>JAK-STAT signaling pathway</td>\n",
       "      <td>8</td>\n",
       "    </tr>\n",
       "    <tr>\n",
       "      <th>38</th>\n",
       "      <td>Sphingolipid signaling pathway</td>\n",
       "      <td>7</td>\n",
       "    </tr>\n",
       "    <tr>\n",
       "      <th>41</th>\n",
       "      <td>Neurotrophin signaling pathway</td>\n",
       "      <td>7</td>\n",
       "    </tr>\n",
       "  </tbody>\n",
       "</table>\n",
       "</div>"
      ],
      "text/plain": [
       "                         Pathway_Name  Repetitions\n",
       "7              FoxO signaling pathway            9\n",
       "9   Thyroid hormone signaling pathway            9\n",
       "17             cAMP signaling pathway            8\n",
       "19         PI3K-Akt signaling pathway            8\n",
       "20            HIF-1 signaling pathway            8\n",
       "21         JAK-STAT signaling pathway            8\n",
       "38     Sphingolipid signaling pathway            7\n",
       "41     Neurotrophin signaling pathway            7"
      ]
     },
     "execution_count": 13,
     "metadata": {},
     "output_type": "execute_result"
    }
   ],
   "source": [
    "signif_paths = path_counts[path_counts.Repetitions >= 7]\n",
    "signif_paths"
   ]
  },
  {
   "cell_type": "markdown",
   "id": "b82e57ee",
   "metadata": {},
   "source": [
    "Ahora, haremos gráficas que nos permitan visualizar los resultados obtenidos. "
   ]
  },
  {
   "cell_type": "code",
   "execution_count": 14,
   "id": "780c3bff",
   "metadata": {},
   "outputs": [
    {
     "data": {
      "image/png": "[encoded data removed]",
      "text/plain": [
       "<Figure size 432x288 with 1 Axes>"
      ]
     },
     "metadata": {
      "needs_background": "light"
     },
     "output_type": "display_data"
    }
   ],
   "source": [
    "# Gráfica de barras representando genes que más se repiten y número de repeticiones\n",
    "fig, ax = plt.subplots()\n",
    "sns.barplot(x='Repetitions', y='Name', data=genes_data, ax=ax)\n",
    "fig.savefig('figures/signif_genes.png', dpi=300, bbox_inches='tight')"
   ]
  },
  {
   "cell_type": "code",
   "execution_count": 15,
   "id": "ab2dceb9",
   "metadata": {},
   "outputs": [
    {
     "data": {
      "image/png": "[encoded data removed]",
      "text/plain": [
       "<Figure size 432x288 with 1 Axes>"
      ]
     },
     "metadata": {
      "needs_background": "light"
     },
     "output_type": "display_data"
    }
   ],
   "source": [
    "# Gráfica representando las vías de señalización más repetidas y el número de repeticiones\n",
    "fig, ax = plt.subplots()\n",
    "sns.barplot(x='Repetitions', y='Pathway_Name', data=signif_paths)\n",
    "fig.savefig('figures/signif_pathways.png', dpi=300, bbox_inches='tight')"
   ]
  },
  {
   "cell_type": "markdown",
   "id": "9f39de97",
   "metadata": {},
   "source": [
    "Ahora tomaremos los genes totales, sin filtrarlos, y de ahí obtendremos las vías que más se repiten, para ver si coinciden con las que más se repiten entre los genes significativos. "
   ]
  },
  {
   "cell_type": "code",
   "execution_count": 16,
   "id": "4b4a6985",
   "metadata": {},
   "outputs": [
    {
     "data": {
      "text/html": [
       "<div>\n",
       "<style scoped>\n",
       "    .dataframe tbody tr th:only-of-type {\n",
       "        vertical-align: middle;\n",
       "    }\n",
       "\n",
       "    .dataframe tbody tr th {\n",
       "        vertical-align: top;\n",
       "    }\n",
       "\n",
       "    .dataframe thead th {\n",
       "        text-align: right;\n",
       "    }\n",
       "</style>\n",
       "<table border=\"1\" class=\"dataframe\">\n",
       "  <thead>\n",
       "    <tr style=\"text-align: right;\">\n",
       "      <th></th>\n",
       "      <th>Gene_ID</th>\n",
       "      <th>Gene_Name</th>\n",
       "      <th>Pathway_ID</th>\n",
       "      <th>Pathway_Name</th>\n",
       "    </tr>\n",
       "  </thead>\n",
       "  <tbody>\n",
       "    <tr>\n",
       "      <th>0</th>\n",
       "      <td>7157</td>\n",
       "      <td>tumor protein p53</td>\n",
       "      <td>hsa01522</td>\n",
       "      <td>Endocrine resistance</td>\n",
       "    </tr>\n",
       "    <tr>\n",
       "      <th>1</th>\n",
       "      <td>7157</td>\n",
       "      <td>tumor protein p53</td>\n",
       "      <td>hsa01524</td>\n",
       "      <td>Platinum drug resistance</td>\n",
       "    </tr>\n",
       "    <tr>\n",
       "      <th>2</th>\n",
       "      <td>7157</td>\n",
       "      <td>tumor protein p53</td>\n",
       "      <td>hsa04010</td>\n",
       "      <td>MAPK signaling pathway</td>\n",
       "    </tr>\n",
       "    <tr>\n",
       "      <th>3</th>\n",
       "      <td>7157</td>\n",
       "      <td>tumor protein p53</td>\n",
       "      <td>hsa04071</td>\n",
       "      <td>Sphingolipid signaling pathway</td>\n",
       "    </tr>\n",
       "    <tr>\n",
       "      <th>4</th>\n",
       "      <td>7157</td>\n",
       "      <td>tumor protein p53</td>\n",
       "      <td>hsa04110</td>\n",
       "      <td>Cell cycle</td>\n",
       "    </tr>\n",
       "    <tr>\n",
       "      <th>...</th>\n",
       "      <td>...</td>\n",
       "      <td>...</td>\n",
       "      <td>...</td>\n",
       "      <td>...</td>\n",
       "    </tr>\n",
       "    <tr>\n",
       "      <th>3787</th>\n",
       "      <td>8364</td>\n",
       "      <td>H4 clustered histone 3</td>\n",
       "      <td>hsa05322</td>\n",
       "      <td>Systemic lupus erythematosus</td>\n",
       "    </tr>\n",
       "    <tr>\n",
       "      <th>3788</th>\n",
       "      <td>8365</td>\n",
       "      <td>H4 clustered histone 8</td>\n",
       "      <td>hsa04613</td>\n",
       "      <td>Neutrophil extracellular trap formation</td>\n",
       "    </tr>\n",
       "    <tr>\n",
       "      <th>3789</th>\n",
       "      <td>8365</td>\n",
       "      <td>H4 clustered histone 8</td>\n",
       "      <td>hsa05034</td>\n",
       "      <td>Alcoholism</td>\n",
       "    </tr>\n",
       "    <tr>\n",
       "      <th>3790</th>\n",
       "      <td>8365</td>\n",
       "      <td>H4 clustered histone 8</td>\n",
       "      <td>hsa05203</td>\n",
       "      <td>Viral carcinogenesis</td>\n",
       "    </tr>\n",
       "    <tr>\n",
       "      <th>3791</th>\n",
       "      <td>8365</td>\n",
       "      <td>H4 clustered histone 8</td>\n",
       "      <td>hsa05322</td>\n",
       "      <td>Systemic lupus erythematosus</td>\n",
       "    </tr>\n",
       "  </tbody>\n",
       "</table>\n",
       "<p>3792 rows × 4 columns</p>\n",
       "</div>"
      ],
      "text/plain": [
       "      Gene_ID               Gene_Name Pathway_ID  \\\n",
       "0        7157       tumor protein p53   hsa01522   \n",
       "1        7157       tumor protein p53   hsa01524   \n",
       "2        7157       tumor protein p53   hsa04010   \n",
       "3        7157       tumor protein p53   hsa04071   \n",
       "4        7157       tumor protein p53   hsa04110   \n",
       "...       ...                     ...        ...   \n",
       "3787     8364  H4 clustered histone 3   hsa05322   \n",
       "3788     8365  H4 clustered histone 8   hsa04613   \n",
       "3789     8365  H4 clustered histone 8   hsa05034   \n",
       "3790     8365  H4 clustered histone 8   hsa05203   \n",
       "3791     8365  H4 clustered histone 8   hsa05322   \n",
       "\n",
       "                                 Pathway_Name  \n",
       "0                        Endocrine resistance  \n",
       "1                    Platinum drug resistance  \n",
       "2                      MAPK signaling pathway  \n",
       "3              Sphingolipid signaling pathway  \n",
       "4                                  Cell cycle  \n",
       "...                                       ...  \n",
       "3787             Systemic lupus erythematosus  \n",
       "3788  Neutrophil extracellular trap formation  \n",
       "3789                               Alcoholism  \n",
       "3790                     Viral carcinogenesis  \n",
       "3791             Systemic lupus erythematosus  \n",
       "\n",
       "[3792 rows x 4 columns]"
      ]
     },
     "execution_count": 16,
     "metadata": {},
     "output_type": "execute_result"
    }
   ],
   "source": [
    "# pathway_df contiene los genes ya quitando líneas repetidas \n",
    "split_total = split_data(pathway_df)\n",
    "split_total"
   ]
  },
  {
   "cell_type": "code",
   "execution_count": 17,
   "id": "3f6a1719",
   "metadata": {},
   "outputs": [
    {
     "data": {
      "text/html": [
       "<div>\n",
       "<style scoped>\n",
       "    .dataframe tbody tr th:only-of-type {\n",
       "        vertical-align: middle;\n",
       "    }\n",
       "\n",
       "    .dataframe tbody tr th {\n",
       "        vertical-align: top;\n",
       "    }\n",
       "\n",
       "    .dataframe thead th {\n",
       "        text-align: right;\n",
       "    }\n",
       "</style>\n",
       "<table border=\"1\" class=\"dataframe\">\n",
       "  <thead>\n",
       "    <tr style=\"text-align: right;\">\n",
       "      <th></th>\n",
       "      <th>Pathway_Name</th>\n",
       "      <th>Repetitions</th>\n",
       "    </tr>\n",
       "  </thead>\n",
       "  <tbody>\n",
       "    <tr>\n",
       "      <th>0</th>\n",
       "      <td>Viral carcinogenesis</td>\n",
       "      <td>185</td>\n",
       "    </tr>\n",
       "    <tr>\n",
       "      <th>1</th>\n",
       "      <td>Human papillomavirus infection</td>\n",
       "      <td>79</td>\n",
       "    </tr>\n",
       "    <tr>\n",
       "      <th>2</th>\n",
       "      <td>Human T-cell leukemia virus 1 infection</td>\n",
       "      <td>73</td>\n",
       "    </tr>\n",
       "    <tr>\n",
       "      <th>3</th>\n",
       "      <td>Pathways in cancer</td>\n",
       "      <td>62</td>\n",
       "    </tr>\n",
       "    <tr>\n",
       "      <th>4</th>\n",
       "      <td>Epstein-Barr virus infection</td>\n",
       "      <td>59</td>\n",
       "    </tr>\n",
       "    <tr>\n",
       "      <th>...</th>\n",
       "      <td>...</td>\n",
       "      <td>...</td>\n",
       "    </tr>\n",
       "    <tr>\n",
       "      <th>219</th>\n",
       "      <td>Neuroactive ligand-receptor interaction</td>\n",
       "      <td>1</td>\n",
       "    </tr>\n",
       "    <tr>\n",
       "      <th>220</th>\n",
       "      <td>Glycolysis / Gluconeogenesis</td>\n",
       "      <td>1</td>\n",
       "    </tr>\n",
       "    <tr>\n",
       "      <th>221</th>\n",
       "      <td>Biosynthesis of cofactors</td>\n",
       "      <td>1</td>\n",
       "    </tr>\n",
       "    <tr>\n",
       "      <th>222</th>\n",
       "      <td>Biosynthesis of amino acids</td>\n",
       "      <td>1</td>\n",
       "    </tr>\n",
       "    <tr>\n",
       "      <th>223</th>\n",
       "      <td>Circadian rhythm</td>\n",
       "      <td>1</td>\n",
       "    </tr>\n",
       "  </tbody>\n",
       "</table>\n",
       "<p>224 rows × 2 columns</p>\n",
       "</div>"
      ],
      "text/plain": [
       "                                Pathway_Name  Repetitions\n",
       "0                       Viral carcinogenesis          185\n",
       "1             Human papillomavirus infection           79\n",
       "2    Human T-cell leukemia virus 1 infection           73\n",
       "3                         Pathways in cancer           62\n",
       "4               Epstein-Barr virus infection           59\n",
       "..                                       ...          ...\n",
       "219  Neuroactive ligand-receptor interaction            1\n",
       "220             Glycolysis / Gluconeogenesis            1\n",
       "221                Biosynthesis of cofactors            1\n",
       "222              Biosynthesis of amino acids            1\n",
       "223                         Circadian rhythm            1\n",
       "\n",
       "[224 rows x 2 columns]"
      ]
     },
     "execution_count": 17,
     "metadata": {},
     "output_type": "execute_result"
    }
   ],
   "source": [
    "# Contamos las vías \n",
    "pathway_counts = split_total.Pathway_Name.value_counts().to_frame().reset_index()\n",
    "pathway_counts.columns = ['Pathway_Name', 'Repetitions']\n",
    "pathway_counts"
   ]
  },
  {
   "cell_type": "code",
   "execution_count": 18,
   "id": "1f17f9ac",
   "metadata": {
    "scrolled": true
   },
   "outputs": [
    {
     "data": {
      "text/html": [
       "<div>\n",
       "<style scoped>\n",
       "    .dataframe tbody tr th:only-of-type {\n",
       "        vertical-align: middle;\n",
       "    }\n",
       "\n",
       "    .dataframe tbody tr th {\n",
       "        vertical-align: top;\n",
       "    }\n",
       "\n",
       "    .dataframe thead th {\n",
       "        text-align: right;\n",
       "    }\n",
       "</style>\n",
       "<table border=\"1\" class=\"dataframe\">\n",
       "  <thead>\n",
       "    <tr style=\"text-align: right;\">\n",
       "      <th></th>\n",
       "      <th>Pathway_Name</th>\n",
       "      <th>Repetitions</th>\n",
       "    </tr>\n",
       "  </thead>\n",
       "  <tbody>\n",
       "    <tr>\n",
       "      <th>9</th>\n",
       "      <td>PI3K-Akt signaling pathway</td>\n",
       "      <td>49</td>\n",
       "    </tr>\n",
       "    <tr>\n",
       "      <th>20</th>\n",
       "      <td>Chemokine signaling pathway</td>\n",
       "      <td>33</td>\n",
       "    </tr>\n",
       "    <tr>\n",
       "      <th>23</th>\n",
       "      <td>Relaxin signaling pathway</td>\n",
       "      <td>30</td>\n",
       "    </tr>\n",
       "    <tr>\n",
       "      <th>25</th>\n",
       "      <td>TNF signaling pathway</td>\n",
       "      <td>30</td>\n",
       "    </tr>\n",
       "    <tr>\n",
       "      <th>29</th>\n",
       "      <td>Estrogen signaling pathway</td>\n",
       "      <td>27</td>\n",
       "    </tr>\n",
       "    <tr>\n",
       "      <th>31</th>\n",
       "      <td>cAMP signaling pathway</td>\n",
       "      <td>27</td>\n",
       "    </tr>\n",
       "    <tr>\n",
       "      <th>35</th>\n",
       "      <td>C-type lectin receptor signaling pathway</td>\n",
       "      <td>26</td>\n",
       "    </tr>\n",
       "    <tr>\n",
       "      <th>40</th>\n",
       "      <td>Thyroid hormone signaling pathway</td>\n",
       "      <td>26</td>\n",
       "    </tr>\n",
       "  </tbody>\n",
       "</table>\n",
       "</div>"
      ],
      "text/plain": [
       "                                Pathway_Name  Repetitions\n",
       "9                 PI3K-Akt signaling pathway           49\n",
       "20               Chemokine signaling pathway           33\n",
       "23                 Relaxin signaling pathway           30\n",
       "25                     TNF signaling pathway           30\n",
       "29                Estrogen signaling pathway           27\n",
       "31                    cAMP signaling pathway           27\n",
       "35  C-type lectin receptor signaling pathway           26\n",
       "40         Thyroid hormone signaling pathway           26"
      ]
     },
     "execution_count": 18,
     "metadata": {},
     "output_type": "execute_result"
    }
   ],
   "source": [
    "# Filtramos las vías de señalización \n",
    "pathway_counts = pathway_counts[pathway_counts.Pathway_Name.str.contains('signaling')]\n",
    "\n",
    "# Tomamos las 8 más repetidas para compararlas con las 8 obtenidas previamente\n",
    "pathway_counts.iloc[:8, :]"
   ]
  },
  {
   "cell_type": "markdown",
   "id": "a6b6f290",
   "metadata": {},
   "source": [
    "Vemos que las repeticiones son mayores, pues hay más genes que considerar, y que no todas las vías coinciden con las obtenidas previamente. "
   ]
  },
  {
   "cell_type": "code",
   "execution_count": 19,
   "id": "a70ba38f",
   "metadata": {},
   "outputs": [
    {
     "data": {
      "image/png": "[encoded data removed]",
      "text/plain": [
       "<Figure size 432x288 with 1 Axes>"
      ]
     },
     "metadata": {
      "needs_background": "light"
     },
     "output_type": "display_data"
    }
   ],
   "source": [
    "# Gráfica representando las vías de señalización más repetidas y el número de repeticiones, considerando\n",
    "# todos los genes\n",
    "fig, ax = plt.subplots()\n",
    "sns.barplot(x='Repetitions', y='Pathway_Name', data=pathway_counts.iloc[:8, :])\n",
    "fig.savefig('figures/signif_pathways_total.png', dpi=300, bbox_inches='tight')"
   ]
  },
  {
   "cell_type": "code",
   "execution_count": 20,
   "id": "b25ccce6",
   "metadata": {},
   "outputs": [],
   "source": [
    "total = set(pathway_counts.iloc[:8, :].Pathway_Name.to_list())\n",
    "signif = set(signif_paths.Pathway_Name.to_list())"
   ]
  },
  {
   "cell_type": "code",
   "execution_count": 21,
   "id": "f2ea36a5",
   "metadata": {},
   "outputs": [
    {
     "data": {
      "text/plain": [
       "{'PI3K-Akt signaling pathway',\n",
       " 'Thyroid hormone signaling pathway',\n",
       " 'cAMP signaling pathway'}"
      ]
     },
     "execution_count": 21,
     "metadata": {},
     "output_type": "execute_result"
    }
   ],
   "source": [
    "total.intersection(signif)"
   ]
  },
  {
   "cell_type": "code",
   "execution_count": 22,
   "id": "ebbfada2",
   "metadata": {},
   "outputs": [
    {
     "data": {
      "text/plain": [
       "{'C-type lectin receptor signaling pathway',\n",
       " 'Chemokine signaling pathway',\n",
       " 'Estrogen signaling pathway',\n",
       " 'Relaxin signaling pathway',\n",
       " 'TNF signaling pathway'}"
      ]
     },
     "execution_count": 22,
     "metadata": {},
     "output_type": "execute_result"
    }
   ],
   "source": [
    "total.difference(signif)"
   ]
  },
  {
   "cell_type": "code",
   "execution_count": 23,
   "id": "a60cf2e0",
   "metadata": {},
   "outputs": [
    {
     "data": {
      "text/plain": [
       "{'FoxO signaling pathway',\n",
       " 'HIF-1 signaling pathway',\n",
       " 'JAK-STAT signaling pathway',\n",
       " 'Neurotrophin signaling pathway',\n",
       " 'Sphingolipid signaling pathway'}"
      ]
     },
     "execution_count": 23,
     "metadata": {},
     "output_type": "execute_result"
    }
   ],
   "source": [
    "signif.difference(total)"
   ]
  },
  {
   "cell_type": "markdown",
   "id": "f5215ca3",
   "metadata": {},
   "source": [
    "Tres de las vías coinciden en ambos casos, mientras que el resto difieren. Esto nos muestra que, según el análisis que hagamos, podemos obtener distintos resultados, y dependerá de la pregunta que queramos responder. \n",
    "\n",
    "Por último, tomando estas 8 vías, veamos cuáles son los genes que más se repiten en ellas. "
   ]
  },
  {
   "cell_type": "code",
   "execution_count": 24,
   "id": "b292bb34",
   "metadata": {},
   "outputs": [],
   "source": [
    "# Nombres de vías significativas\n",
    "signif_paths_names = pathway_counts.iloc[:8, :].Pathway_Name.to_list()"
   ]
  },
  {
   "cell_type": "code",
   "execution_count": 25,
   "id": "444799b6",
   "metadata": {},
   "outputs": [
    {
     "data": {
      "text/html": [
       "<div>\n",
       "<style scoped>\n",
       "    .dataframe tbody tr th:only-of-type {\n",
       "        vertical-align: middle;\n",
       "    }\n",
       "\n",
       "    .dataframe tbody tr th {\n",
       "        vertical-align: top;\n",
       "    }\n",
       "\n",
       "    .dataframe thead th {\n",
       "        text-align: right;\n",
       "    }\n",
       "</style>\n",
       "<table border=\"1\" class=\"dataframe\">\n",
       "  <thead>\n",
       "    <tr style=\"text-align: right;\">\n",
       "      <th></th>\n",
       "      <th>Gene_Name</th>\n",
       "      <th>Repetitions</th>\n",
       "    </tr>\n",
       "  </thead>\n",
       "  <tbody>\n",
       "    <tr>\n",
       "      <th>0</th>\n",
       "      <td>phosphatidylinositol-4,5-bisphosphate 3-kinase...</td>\n",
       "      <td>8</td>\n",
       "    </tr>\n",
       "    <tr>\n",
       "      <th>1</th>\n",
       "      <td>phosphoinositide-3-kinase regulatory subunit 3</td>\n",
       "      <td>8</td>\n",
       "    </tr>\n",
       "    <tr>\n",
       "      <th>2</th>\n",
       "      <td>mitogen-activated protein kinase 3</td>\n",
       "      <td>8</td>\n",
       "    </tr>\n",
       "    <tr>\n",
       "      <th>3</th>\n",
       "      <td>mitogen-activated protein kinase 1</td>\n",
       "      <td>8</td>\n",
       "    </tr>\n",
       "    <tr>\n",
       "      <th>4</th>\n",
       "      <td>phosphatidylinositol-4,5-bisphosphate 3-kinase...</td>\n",
       "      <td>8</td>\n",
       "    </tr>\n",
       "    <tr>\n",
       "      <th>5</th>\n",
       "      <td>phosphoinositide-3-kinase regulatory subunit 1</td>\n",
       "      <td>8</td>\n",
       "    </tr>\n",
       "    <tr>\n",
       "      <th>6</th>\n",
       "      <td>phosphoinositide-3-kinase regulatory subunit 2</td>\n",
       "      <td>8</td>\n",
       "    </tr>\n",
       "    <tr>\n",
       "      <th>7</th>\n",
       "      <td>phosphatidylinositol-4,5-bisphosphate 3-kinase...</td>\n",
       "      <td>8</td>\n",
       "    </tr>\n",
       "    <tr>\n",
       "      <th>8</th>\n",
       "      <td>NRAS proto-oncogene, GTPase</td>\n",
       "      <td>6</td>\n",
       "    </tr>\n",
       "    <tr>\n",
       "      <th>9</th>\n",
       "      <td>nuclear factor kappa B subunit 1</td>\n",
       "      <td>6</td>\n",
       "    </tr>\n",
       "    <tr>\n",
       "      <th>10</th>\n",
       "      <td>RELA proto-oncogene, NF-kB subunit</td>\n",
       "      <td>6</td>\n",
       "    </tr>\n",
       "    <tr>\n",
       "      <th>11</th>\n",
       "      <td>HRas proto-oncogene, GTPase</td>\n",
       "      <td>6</td>\n",
       "    </tr>\n",
       "    <tr>\n",
       "      <th>12</th>\n",
       "      <td>KRAS proto-oncogene, GTPase</td>\n",
       "      <td>6</td>\n",
       "    </tr>\n",
       "    <tr>\n",
       "      <th>13</th>\n",
       "      <td>cAMP responsive element binding protein 3 like 2</td>\n",
       "      <td>5</td>\n",
       "    </tr>\n",
       "    <tr>\n",
       "      <th>14</th>\n",
       "      <td>cAMP responsive element binding protein 3 like 3</td>\n",
       "      <td>5</td>\n",
       "    </tr>\n",
       "  </tbody>\n",
       "</table>\n",
       "</div>"
      ],
      "text/plain": [
       "                                            Gene_Name  Repetitions\n",
       "0   phosphatidylinositol-4,5-bisphosphate 3-kinase...            8\n",
       "1      phosphoinositide-3-kinase regulatory subunit 3            8\n",
       "2                  mitogen-activated protein kinase 3            8\n",
       "3                  mitogen-activated protein kinase 1            8\n",
       "4   phosphatidylinositol-4,5-bisphosphate 3-kinase...            8\n",
       "5      phosphoinositide-3-kinase regulatory subunit 1            8\n",
       "6      phosphoinositide-3-kinase regulatory subunit 2            8\n",
       "7   phosphatidylinositol-4,5-bisphosphate 3-kinase...            8\n",
       "8                         NRAS proto-oncogene, GTPase            6\n",
       "9                    nuclear factor kappa B subunit 1            6\n",
       "10                 RELA proto-oncogene, NF-kB subunit            6\n",
       "11                        HRas proto-oncogene, GTPase            6\n",
       "12                        KRAS proto-oncogene, GTPase            6\n",
       "13   cAMP responsive element binding protein 3 like 2            5\n",
       "14   cAMP responsive element binding protein 3 like 3            5"
      ]
     },
     "execution_count": 25,
     "metadata": {},
     "output_type": "execute_result"
    }
   ],
   "source": [
    "# Filtramos genes de vías significativas\n",
    "filtered_pathways = split_total[split_total.Pathway_Name.isin(signif_paths_names)]\n",
    "filtered_pathways_counts = filtered_pathways.Gene_Name.value_counts().to_frame().reset_index()\n",
    "filtered_pathways_counts.columns = ['Gene_Name', 'Repetitions']\n",
    "filtered_pathways_counts.iloc[:15, :]"
   ]
  },
  {
   "cell_type": "markdown",
   "id": "3056d34c",
   "metadata": {},
   "source": [
    "Tomamos los que tienen al menos 6 repeticiones."
   ]
  },
  {
   "cell_type": "code",
   "execution_count": 26,
   "id": "86df9eff",
   "metadata": {},
   "outputs": [
    {
     "data": {
      "image/png": "[encoded data removed]",
      "text/plain": [
       "<Figure size 432x288 with 1 Axes>"
      ]
     },
     "metadata": {
      "needs_background": "light"
     },
     "output_type": "display_data"
    }
   ],
   "source": [
    "# Gráfica representando los genes que aparecen en las vías metabólicas más representadas\n",
    "fig, ax = plt.subplots()\n",
    "sns.barplot(x='Repetitions', y='Gene_Name', data=filtered_pathways_counts.iloc[:13,:])\n",
    "fig.savefig('figures/signif_genes_2.png', dpi=300, bbox_inches='tight')"
   ]
  },
  {
   "cell_type": "markdown",
   "id": "12d605eb",
   "metadata": {},
   "source": [
    "Y vemos otra vez que, aunque algunos genes también aparecieron en los genes más frecuentes, no todos coinciden. "
   ]
  },
  {
   "cell_type": "code",
   "execution_count": null,
   "id": "f7febb77",
   "metadata": {},
   "outputs": [],
   "source": []
  }
 ],
 "metadata": {
  "kernelspec": {
   "display_name": "Python 3 (ipykernel)",
   "language": "python",
   "name": "python3"
  },
  "language_info": {
   "codemirror_mode": {
    "name": "ipython",
    "version": 3
   },
   "file_extension": ".py",
   "mimetype": "text/x-python",
   "name": "python",
   "nbconvert_exporter": "python",
   "pygments_lexer": "ipython3",
   "version": "3.9.1"
  }
 },
 "nbformat": 4,
 "nbformat_minor": 5
}
